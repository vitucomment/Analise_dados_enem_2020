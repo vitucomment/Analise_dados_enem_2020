{
 "cells": [
  {
   "cell_type": "code",
   "execution_count": 1,
   "id": "9ce53699",
   "metadata": {},
   "outputs": [],
   "source": [
    "# Fonte de dados: https://www.gov.br/inep/pt-br/acesso-a-informacao/dados-abertos/microdados/enem"
   ]
  },
  {
   "cell_type": "code",
   "execution_count": 2,
   "id": "ad00aa9b",
   "metadata": {},
   "outputs": [],
   "source": [
    "import pandas as pd\n",
    "\n",
    "# Pandas importado"
   ]
  },
  {
   "cell_type": "code",
   "execution_count": 43,
   "id": "6cdbb6be",
   "metadata": {},
   "outputs": [],
   "source": [
    "dados = pd.read_csv('DADOS/MICRODADOS_ENEM_2020.csv', encoding = \"ISO-8859-1\", sep=';')\n",
    "\n",
    "# Foram importados os dados passando um parametro 'encoding' para mudar a codificação da linguagem\n",
    "# Foi passado também o parametro sep=';' para identificar o separador dos registros"
   ]
  },
  {
   "cell_type": "code",
   "execution_count": 44,
   "id": "43d14622",
   "metadata": {},
   "outputs": [
    {
     "data": {
      "text/plain": [
       "Index(['NU_INSCRICAO', 'NU_ANO', 'TP_FAIXA_ETARIA', 'TP_SEXO',\n",
       "       'TP_ESTADO_CIVIL', 'TP_COR_RACA', 'TP_NACIONALIDADE', 'TP_ST_CONCLUSAO',\n",
       "       'TP_ANO_CONCLUIU', 'TP_ESCOLA', 'TP_ENSINO', 'IN_TREINEIRO',\n",
       "       'CO_MUNICIPIO_ESC', 'NO_MUNICIPIO_ESC', 'CO_UF_ESC', 'SG_UF_ESC',\n",
       "       'TP_DEPENDENCIA_ADM_ESC', 'TP_LOCALIZACAO_ESC', 'TP_SIT_FUNC_ESC',\n",
       "       'CO_MUNICIPIO_PROVA', 'NO_MUNICIPIO_PROVA', 'CO_UF_PROVA',\n",
       "       'SG_UF_PROVA', 'TP_PRESENCA_CN', 'TP_PRESENCA_CH', 'TP_PRESENCA_LC',\n",
       "       'TP_PRESENCA_MT', 'CO_PROVA_CN', 'CO_PROVA_CH', 'CO_PROVA_LC',\n",
       "       'CO_PROVA_MT', 'NU_NOTA_CN', 'NU_NOTA_CH', 'NU_NOTA_LC', 'NU_NOTA_MT',\n",
       "       'TX_RESPOSTAS_CN', 'TX_RESPOSTAS_CH', 'TX_RESPOSTAS_LC',\n",
       "       'TX_RESPOSTAS_MT', 'TP_LINGUA', 'TX_GABARITO_CN', 'TX_GABARITO_CH',\n",
       "       'TX_GABARITO_LC', 'TX_GABARITO_MT', 'TP_STATUS_REDACAO',\n",
       "       'NU_NOTA_COMP1', 'NU_NOTA_COMP2', 'NU_NOTA_COMP3', 'NU_NOTA_COMP4',\n",
       "       'NU_NOTA_COMP5', 'NU_NOTA_REDACAO', 'Q001', 'Q002', 'Q003', 'Q004',\n",
       "       'Q005', 'Q006', 'Q007', 'Q008', 'Q009', 'Q010', 'Q011', 'Q012', 'Q013',\n",
       "       'Q014', 'Q015', 'Q016', 'Q017', 'Q018', 'Q019', 'Q020', 'Q021', 'Q022',\n",
       "       'Q023', 'Q024', 'Q025'],\n",
       "      dtype='object')"
      ]
     },
     "execution_count": 44,
     "metadata": {},
     "output_type": "execute_result"
    }
   ],
   "source": [
    "dados.columns\n",
    "\n",
    "# Após a análise das colunas úteis, com a ajuda de um visualizador de dados mais avançado\n",
    "# ( foi usado o PowerQuery do PowerBI)"
   ]
  },
  {
   "cell_type": "code",
   "execution_count": 45,
   "id": "07bbcf3e",
   "metadata": {},
   "outputs": [],
   "source": [
    "dados = dados.drop(columns=['Q001', 'Q002', 'Q003', 'Q004', 'Q005', 'Q006', 'Q007',\n",
    "                            'Q008', 'Q009', 'Q010', 'Q011', 'Q012', 'Q013', 'Q014',\n",
    "                            'Q015', 'Q016', 'Q017', 'Q018', 'Q019', 'Q020', 'Q021',\n",
    "                            'Q022', 'Q023', 'Q024', 'Q025','TP_ENSINO','IN_TREINEIRO',\n",
    "                            'CO_MUNICIPIO_ESC','NO_MUNICIPIO_ESC', 'CO_UF_ESC',\n",
    "                            'SG_UF_ESC', 'TP_DEPENDENCIA_ADM_ESC', 'TP_LOCALIZACAO_ESC',\n",
    "                            'TP_SIT_FUNC_ESC','CO_MUNICIPIO_PROVA','CO_UF_PROVA',\n",
    "                            'TP_PRESENCA_CN', 'TP_PRESENCA_CH', 'TP_PRESENCA_LC',\n",
    "                            'TP_PRESENCA_MT', 'TX_RESPOSTAS_CN', 'TX_RESPOSTAS_CH',\n",
    "                            'TX_RESPOSTAS_LC', 'TX_RESPOSTAS_MT', 'TX_GABARITO_CN',\n",
    "                            'TX_GABARITO_CH', 'TX_GABARITO_LC', 'TX_GABARITO_MT',\n",
    "                            'TP_STATUS_REDACAO','NU_NOTA_COMP1', 'NU_NOTA_COMP2',\n",
    "                            'NU_NOTA_COMP3', 'NU_NOTA_COMP4', 'NU_NOTA_COMP5',\n",
    "                            'CO_PROVA_CN', 'CO_PROVA_CH', 'CO_PROVA_LC','CO_PROVA_MT'])\n",
    "\n",
    "# Com a ajuda do PowerQuery, rapidamente é verificado as colunas que não são úteis para a ánalise\n",
    "# É passada uma lista com o nome dessas colunas e atribuida a nova variável 'dados' um dataframe com apenas as colunas\n",
    "# úteis."
   ]
  },
  {
   "cell_type": "code",
   "execution_count": 49,
   "id": "f4020abb",
   "metadata": {},
   "outputs": [],
   "source": [
    "dados.to_csv('DADOS/MICRODADOS_TRATADOS_COLUNAS.csv')\n",
    "\n",
    "# O dataframe foi salvo com as colunas que úteis, finalizando a primeira parte do tratamento\n",
    "\n",
    "#_____________________________________FINALIZADO PRIMEIRA PARTE DO TRATAMENTO_____________________________________"
   ]
  },
  {
   "cell_type": "markdown",
   "id": "16c73714",
   "metadata": {},
   "source": [
    "## Iniciar codigo para tratamento de linhas a partir daqui"
   ]
  },
  {
   "cell_type": "code",
   "execution_count": 52,
   "id": "3a788cbf",
   "metadata": {},
   "outputs": [],
   "source": [
    "import pandas as pd\n",
    "\n",
    "# É possível o tratamento das linhas, retirando valores NULOS e aplicando os valores do dicionário do dataset"
   ]
  },
  {
   "cell_type": "code",
   "execution_count": 53,
   "id": "1c256109",
   "metadata": {},
   "outputs": [],
   "source": [
    "dados = pd.read_csv('DADOS/MICRODADOS_TRATADOS_COLUNAS.csv')\n",
    "\n",
    "# Foi salvo na variável 'dados', nosso banco de dados com apenas as colunas úteis."
   ]
  },
  {
   "cell_type": "code",
   "execution_count": 55,
   "id": "9e35a941",
   "metadata": {},
   "outputs": [],
   "source": [
    "dados = dados.dropna()\n",
    "\n",
    "# Foi usada a função 'dropna()' para remover valores nulos, foi verificado também se o valor '0' iria estar presente\n",
    "# nas colunas de notas,\n",
    "# como forma de verificar se o aluno zerou a redação ou área de conhecimento"
   ]
  },
  {
   "cell_type": "code",
   "execution_count": 57,
   "id": "2de05a56",
   "metadata": {},
   "outputs": [],
   "source": [
    "dados = dados.drop(columns='Unnamed: 0')\n",
    "\n",
    "# Uma coluna inválida foi encontrada e removida"
   ]
  },
  {
   "cell_type": "code",
   "execution_count": 58,
   "id": "3381d469",
   "metadata": {},
   "outputs": [],
   "source": [
    "dados = dados.reset_index()\n",
    "\n",
    "# Foi usada a função 'reset_index()' para resetar a coluna index do dataframe"
   ]
  },
  {
   "cell_type": "code",
   "execution_count": 59,
   "id": "7642b745",
   "metadata": {},
   "outputs": [],
   "source": [
    "dados = dados.drop(columns='index')\n",
    "\n",
    "# Coluna index antiga foi excluida"
   ]
  },
  {
   "cell_type": "code",
   "execution_count": null,
   "id": "16ff7fde",
   "metadata": {},
   "outputs": [],
   "source": [
    "# Para o tratamento das linhas que possuem números invés das informações, é fornecido\n",
    "# um dataset 'Dicionário_Microdados_Enem_2020.xlsx'\n",
    "# Foi observado suas respectivas informações, então foi criado um dicionário para cada coluna e com a função 'map()'\n",
    "# foi passado seus recpectivos valores."
   ]
  },
  {
   "cell_type": "code",
   "execution_count": 60,
   "id": "40419a3c",
   "metadata": {},
   "outputs": [],
   "source": [
    "TP_FAIXA_ETARIA = {\n",
    "    1:'Menor de 17 anos',\n",
    "    2:'17 anos',\n",
    "    3:'18 anos',\n",
    "    4:'19 anos',\n",
    "    5:'20 anos',\n",
    "    6:'21 anos',\n",
    "    7:'22 anos',\n",
    "    8:'23 anos',\n",
    "    9:'24 anos',\n",
    "    10:'25 anos',\n",
    "    11:'Entre 26 e 30 anos',\n",
    "    12:'Entre 31 e 35 anos',\n",
    "    13:'Entre 36 e 40 anos',\n",
    "    14:'Entre 41 e 45 anos',\n",
    "    15:'Entre 46 e 50 anos',\n",
    "    16:'Entre 51 e 55 anos',\n",
    "    17:'Entre 56 e 60 anos',\n",
    "    18:'Entre 61 e 65 anos',\n",
    "    19:'Entre 66 e 70 anos',\n",
    "    20:'Maior de 70 anos'\n",
    "}\n",
    "dados.TP_FAIXA_ETARIA = dados.TP_FAIXA_ETARIA.map(TP_FAIXA_ETARIA)\n"
   ]
  },
  {
   "cell_type": "code",
   "execution_count": 61,
   "id": "b290809a",
   "metadata": {},
   "outputs": [],
   "source": [
    "TP_ESTADO_CIVIL = {\n",
    "    0:'Não informado',\n",
    "    1:'Solteiro(a)',\n",
    "    2:'Casado(a)/Mora com companheiro(a)',\n",
    "    3:'Divorciado(a)/Desquitado(a)/Separado(a)',\n",
    "    4:'Viúvo(a)'\n",
    "}\n",
    "dados.TP_ESTADO_CIVIL = dados.TP_ESTADO_CIVIL.map(TP_ESTADO_CIVIL)"
   ]
  },
  {
   "cell_type": "code",
   "execution_count": 62,
   "id": "98058e0e",
   "metadata": {},
   "outputs": [],
   "source": [
    "TP_COR_RACA = {\n",
    "    0:'Não declarado',\n",
    "    1:'Branca',\n",
    "    2:'Preta',\n",
    "    3:'Parda',\n",
    "    4:'Amarela',\n",
    "    5:'Indígena' \n",
    "}\n",
    "dados.TP_COR_RACA = dados.TP_COR_RACA.map(TP_COR_RACA)"
   ]
  },
  {
   "cell_type": "code",
   "execution_count": 63,
   "id": "70c39722",
   "metadata": {},
   "outputs": [],
   "source": [
    "TP_NACIONALIDADE = {\n",
    "    0:'Não informado',\n",
    "    1:'Brasileiro(a)',\n",
    "    2:'Brasileiro(a) Naturalizado(a)',\n",
    "    3:'Estrangeiro(a)',\n",
    "    4:'Brasileiro(a) Nato(a), nascido(a) no exterior'\n",
    "}\n",
    "dados.TP_NACIONALIDADE = dados.TP_NACIONALIDADE.map(TP_NACIONALIDADE)"
   ]
  },
  {
   "cell_type": "code",
   "execution_count": 64,
   "id": "a40ee9c5",
   "metadata": {},
   "outputs": [],
   "source": [
    "TP_ST_CONCLUSAO = {\n",
    "    1:'Já concluí o Ensino Médio',\n",
    "    2:'Estou cursando e concluirei o Ensino Médio em 2020',\n",
    "    3:'Estou cursando e concluirei o Ensino Médio após 2020',\n",
    "    4:'Não concluí e não estou cursando o Ensino Médio'\n",
    "}\n",
    "dados.TP_ST_CONCLUSAO = dados.TP_ST_CONCLUSAO.map(TP_ST_CONCLUSAO)"
   ]
  },
  {
   "cell_type": "code",
   "execution_count": 65,
   "id": "ab375325",
   "metadata": {},
   "outputs": [],
   "source": [
    "TP_ANO_CONCLUIU = {\n",
    "    0:'Não informado',\n",
    "    1:'2019',\n",
    "    2:'2018',\n",
    "    3:'2017',\n",
    "    4:'2016',\n",
    "    5:'2015',\n",
    "    6:'2014',\n",
    "    7:'2013',\n",
    "    8:'2012',\n",
    "    9:'2011',\n",
    "    10:'2010',\n",
    "    11:'2009',\n",
    "    12:'2008',\n",
    "    13:'2007',\n",
    "    14:'Antes de 2007'\n",
    "}\n",
    "dados.TP_ANO_CONCLUIU = dados.TP_ANO_CONCLUIU.map(TP_ANO_CONCLUIU)"
   ]
  },
  {
   "cell_type": "code",
   "execution_count": 66,
   "id": "67401dc8",
   "metadata": {},
   "outputs": [],
   "source": [
    "TP_ESCOLA = {\n",
    "    1:'Não Respondeu',\n",
    "    2:'Pública',\n",
    "    3:'Privada',\n",
    "    4:'Exterior'\n",
    "}\n",
    "dados.TP_ESCOLA = dados.TP_ESCOLA.map(TP_ESCOLA)"
   ]
  },
  {
   "cell_type": "code",
   "execution_count": 67,
   "id": "17dbc443",
   "metadata": {},
   "outputs": [],
   "source": [
    "TP_LINGUA = {\n",
    "    0:'Inglês',\n",
    "    1:'Espanhol'\n",
    "}\n",
    "dados.TP_LINGUA = dados.TP_LINGUA.map(TP_LINGUA)"
   ]
  },
  {
   "cell_type": "code",
   "execution_count": 69,
   "id": "400a4fa5",
   "metadata": {},
   "outputs": [],
   "source": [
    "dados.to_csv('DADOS/MICRODADOS_TRATADOS_COLUNAS_LINHAS.csv.csv')\n",
    "\n",
    "# Para finalizar o processo de tratamento das linhas, o dataframe é salvo em um novo dataset"
   ]
  },
  {
   "cell_type": "code",
   "execution_count": 2,
   "id": "71de5122",
   "metadata": {},
   "outputs": [
    {
     "ename": "NameError",
     "evalue": "name 'dados' is not defined",
     "output_type": "error",
     "traceback": [
      "\u001b[1;31m---------------------------------------------------------------------------\u001b[0m",
      "\u001b[1;31mNameError\u001b[0m                                 Traceback (most recent call last)",
      "\u001b[1;32m~\\AppData\\Local\\Temp/ipykernel_6564/766154662.py\u001b[0m in \u001b[0;36m<module>\u001b[1;34m\u001b[0m\n\u001b[1;32m----> 1\u001b[1;33m \u001b[0mdados\u001b[0m\u001b[1;33m\u001b[0m\u001b[1;33m\u001b[0m\u001b[0m\n\u001b[0m",
      "\u001b[1;31mNameError\u001b[0m: name 'dados' is not defined"
     ]
    }
   ],
   "source": []
  },
  {
   "cell_type": "code",
   "execution_count": null,
   "id": "a2b6f039",
   "metadata": {},
   "outputs": [],
   "source": [
    "dados = pd.read_csv('DADOS/MICRODADOS_TRATADOS_COLUNAS_LINHAS.csv')\n",
    "\n",
    "# O banco de dados tratado na primeira parte do projeto é lido e salvo na variavel dados"
   ]
  },
  {
   "cell_type": "code",
   "execution_count": null,
   "id": "d81d4395",
   "metadata": {},
   "outputs": [],
   "source": [
    "dados = dados.rename(columns={\n",
    "    'NU_INSCRICAO':'Nº de incrição',\n",
    "    'NU_ANO':'Ano',\n",
    "    'TP_FAIXA_ETARIA':'Faixa etaria',\n",
    "    'TP_SEXO':'Sexo',\n",
    "    'TP_ESTADO_CIVIL':'Estado civil',\n",
    "    'TP_COR_RACA':'Raça',\n",
    "    'TP_NACIONALIDADE':'Nacionalidade',\n",
    "    'TP_ST_CONCLUSAO':'Situação E.M.',\n",
    "    'TP_ANO_CONCLUIU':'Ano de conclusão E.M.',\n",
    "    'TP_ESCOLA':'Tipo de escola',\n",
    "    'NO_MUNICIPIO_PROVA':'Municipio',\n",
    "    'SG_UF_PROVA':'Estado',\n",
    "    'NU_NOTA_CN':'Nota ciências naturais',\n",
    "    'NU_NOTA_CH':'Nota ciências humanas',\n",
    "    'NU_NOTA_LC':'Nota linguagens',\n",
    "    'NU_NOTA_MT':'Nota matemática',\n",
    "    'TP_LINGUA':'Lingua estrangeira',\n",
    "    'NU_NOTA_REDACAO':'Nota redação'\n",
    "})\n",
    "\n",
    "# A mudança do nome das colunas poderia ter sido feita na primeira parte do tratamento\n",
    "# A função rename(columns={}) foi usada para passar um dicionário com o nome das colunas"
   ]
  },
  {
   "cell_type": "code",
   "execution_count": null,
   "id": "42e57532",
   "metadata": {},
   "outputs": [],
   "source": [
    "dados.to_csv('DADOS/MICRODADOS_TRATADOS_COLUNAS_LINHAS.csv')\n",
    "\n",
    "# Salvamos rapidamente o banco de dados com as colunas alteradas"
   ]
  },
  {
   "cell_type": "code",
   "execution_count": null,
   "id": "53611cd4",
   "metadata": {},
   "outputs": [],
   "source": [
    "def media_notas(area, dataset):\n",
    "    media = round(dataset[area].mean(),2)\n",
    "    return media\n",
    "\n",
    "# Uma função que retorna o valor da média dos resultados, passando os parametros da 'area de conhecimento' e 'banco de dados'"
   ]
  },
  {
   "cell_type": "code",
   "execution_count": null,
   "id": "3cca7fa1",
   "metadata": {},
   "outputs": [],
   "source": [
    "media_ciencias_naturais = media_notas('Nota ciências naturais', dados)\n",
    "media_ciencias_humanas = media_notas('Nota ciências humanas', dados) \n",
    "media_linguagens = media_notas('Nota linguagens', dados)\n",
    "media_matematica = media_notas('Nota matemática', dados)\n",
    "media_redacao = media_notas('Nota redação', dados)\n",
    "\n",
    "# Salvando o valor da média de cada área usando a função criada para o calculo"
   ]
  },
  {
   "cell_type": "code",
   "execution_count": null,
   "id": "19833c96",
   "metadata": {},
   "outputs": [],
   "source": [
    "!pip3 install sqlalchemy\n",
    "\n",
    "# Feita a instalação do pacote 'sqlalchemy' que possibilita a criação de um banco de dados sql\n",
    "# Usando funções de 'select' de banco de dados SQL, é possivel fazer consultas de maneira prática e ágil"
   ]
  },
  {
   "cell_type": "code",
   "execution_count": null,
   "id": "a84d1716",
   "metadata": {},
   "outputs": [],
   "source": [
    "from sqlalchemy import create_engine\n",
    "engine = create_engine('sqlite:///:memory:')\n",
    "\n",
    "# Criamos um banco de dados usando uma engine, passamos como parametro o SQLITE (poderia ser usado MySQL, por exemplo)\n",
    "# O banco de dados é salvo na memoria local"
   ]
  },
  {
   "cell_type": "code",
   "execution_count": null,
   "id": "7669611a",
   "metadata": {},
   "outputs": [],
   "source": [
    "dados.to_sql('dados', engine)\n",
    "\n",
    "# Transformamos o banco de dados salvo na variavel 'dados' em um banco de dados do tipo 'sql'"
   ]
  },
  {
   "cell_type": "code",
   "execution_count": null,
   "id": "61181ef9",
   "metadata": {},
   "outputs": [],
   "source": [
    "# A seguir são feitas algumas consultas usando a linguagem SQL, ao todo foram feitas 3 consultas filtrando por 'tipo de escola'\n",
    "# 'select * from dados' = CONSULTA TODOS OS DADOS DO DATASET 'DADOS' 'where \"Tipo de escola\"'= FILTRA PELO TIPO DE ESCOLA\n",
    "# As tres consultas são salvas em dataframes separados, essa estratégia ajuda na criação de um dashboard que será feito porteriormente"
   ]
  },
  {
   "cell_type": "code",
   "execution_count": null,
   "id": "54364592",
   "metadata": {},
   "outputs": [],
   "source": [
    "consulta = 'select * from dados where \"Tipo de escola\" = \"Pública\"'\n",
    "database_escolas_publicas = pd.read_sql(consulta, engine)\n",
    "database_escolas_publicas.to_csv('DADOS/database_escolas_publicas.csv')"
   ]
  },
  {
   "cell_type": "code",
   "execution_count": null,
   "id": "77311721",
   "metadata": {},
   "outputs": [],
   "source": [
    "consulta = 'select * from dados where \"Tipo de escola\" = \"Privada\"'\n",
    "database_escolas_privadas = pd.read_sql(consulta, engine)\n",
    "database_escolas_privadas.to_csv('DADOS/database_escolas_privadas.csv')"
   ]
  },
  {
   "cell_type": "code",
   "execution_count": null,
   "id": "9f484361",
   "metadata": {},
   "outputs": [],
   "source": [
    "consulta = 'select * from dados where \"Tipo de escola\" = \"Não Respondeu\"'\n",
    "database_escolas_nao_informada = pd.read_sql(consulta, engine)\n",
    "database_escolas_nao_informada.to_csv('DADOS/database_escolas_nao_informada.csv')"
   ]
  },
  {
   "cell_type": "code",
   "execution_count": null,
   "id": "360b7cc5",
   "metadata": {},
   "outputs": [],
   "source": [
    "medias_gerais = [\n",
    "    ['Média_geral_ciencias_naturais', media_ciencias_naturais],\n",
    "    ['Média_geral_ciencias_humanas', media_ciencias_humanas],\n",
    "    ['Média_geral_linguagens', media_linguagens],\n",
    "    ['Média_geral_matematica', media_matematica],\n",
    "    ['Média_geral_redacao', media_redacao]\n",
    "]\n",
    "medias_gerais = pd.DataFrame(medias_gerais, columns=['Area_Conhecimento', 'Valor Média'])\n",
    "\n",
    "# Criamos uma lista de valores que recebem as médias calculadas usando a função 'medias_notas'\n",
    "# Salvamos numa variável a transformação dessa lista em um dataframe"
   ]
  },
  {
   "cell_type": "code",
   "execution_count": null,
   "id": "c903e8ec",
   "metadata": {},
   "outputs": [],
   "source": [
    "medias_gerais.to_csv('DADOS/database_medias_gerais.csv')\n",
    "\n",
    "# Por fim, o dataframe 'medias_gerais' é salvo em um dataset para auxiliar na criação do dashboard"
   ]
  },
  {
   "cell_type": "code",
   "execution_count": null,
   "id": "ca87f096",
   "metadata": {},
   "outputs": [],
   "source": [
    "dados['Média de notas individual'] = ((dados['Nota ciências naturais']+\n",
    "                                     dados['Nota ciências humanas']+\n",
    "                                     dados['Nota linguagens']+\n",
    "                                     dados['Nota matemática']+\n",
    "                                     dados['Nota redação'])/5).round(2)\n",
    "\n",
    "# Por ultimo, criamos uma coluna e passamos a média das 5 notas individualmente\n"
   ]
  },
  {
   "cell_type": "code",
   "execution_count": null,
   "id": "be19df5d",
   "metadata": {},
   "outputs": [],
   "source": [
    "dados.to_csv('DADOS/MICRODADOS_COMPLETO.csv')\n",
    "\n",
    "# Os dados são salvos num novo dataset"
   ]
  },
  {
   "cell_type": "code",
   "execution_count": null,
   "id": "b89e6c12",
   "metadata": {},
   "outputs": [],
   "source": []
  }
 ],
 "metadata": {
  "kernelspec": {
   "display_name": "Python 3 (ipykernel)",
   "language": "python",
   "name": "python3"
  },
  "language_info": {
   "codemirror_mode": {
    "name": "ipython",
    "version": 3
   },
   "file_extension": ".py",
   "mimetype": "text/x-python",
   "name": "python",
   "nbconvert_exporter": "python",
   "pygments_lexer": "ipython3",
   "version": "3.9.7"
  }
 },
 "nbformat": 4,
 "nbformat_minor": 5
}
